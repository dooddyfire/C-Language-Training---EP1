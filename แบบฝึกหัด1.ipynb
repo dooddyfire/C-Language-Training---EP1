{
  "cells": [
    {
      "cell_type": "markdown",
      "id": "d5a84c25-5dd2-4e1c-9610-0f32b929ab11",
      "metadata": {
        "id": "d5a84c25-5dd2-4e1c-9610-0f32b929ab11"
      },
      "source": [
        "# แบบฝึกหัด 1"
      ]
    },
    {
      "cell_type": "markdown",
      "id": "1de1213a-1891-4a0f-a326-f4b41157e2a2",
      "metadata": {
        "id": "1de1213a-1891-4a0f-a326-f4b41157e2a2"
      },
      "source": [
        "---"
      ]
    },
    {
      "cell_type": "markdown",
      "id": "abfa3674-2828-46af-8ba2-8203fe69d752",
      "metadata": {
        "id": "abfa3674-2828-46af-8ba2-8203fe69d752"
      },
      "source": [
        "### 1.1"
      ]
    },
    {
      "cell_type": "markdown",
      "id": "9757cced-2cba-4bca-a7bd-8973db901b25",
      "metadata": {
        "id": "9757cced-2cba-4bca-a7bd-8973db901b25"
      },
      "source": [
        "***เขียนโปรแกรมเพื่อเปลี่ยนค่าจากองศาเซลเซียสไปเป็นองศาฟาเรนไฮต์และเคลวิน โดยมีสูตรคำนวณดังนี้***\n",
        "\n",
        "F = (9/5)C + 32  \n",
        "K = C + 273.15"
      ]
    },
    {
      "cell_type": "markdown",
      "id": "b1834134-5b60-4e8c-96c5-b87ef739ddfb",
      "metadata": {
        "id": "b1834134-5b60-4e8c-96c5-b87ef739ddfb"
      },
      "source": [
        "รับข้อมูลองศาเซลเซียส"
      ]
    },
    {
      "cell_type": "code",
      "execution_count": 33,
      "id": "af68b83d-415c-4092-9aa7-adb0b2feef31",
      "metadata": {
        "id": "af68b83d-415c-4092-9aa7-adb0b2feef31"
      },
      "outputs": [],
      "source": [
        "C = [39.85, 25, 32]"
      ]
    },
    {
      "cell_type": "markdown",
      "id": "730d77bd-d450-4cdc-ad27-48607f07ae43",
      "metadata": {
        "id": "730d77bd-d450-4cdc-ad27-48607f07ae43"
      },
      "source": [
        "### แปลงเป็นองศาฟาเรนไฮต์ให้ได้ผลลัพธ์เป็น list เก็บในตัวแปร F  "
      ]
    },
    {
      "cell_type": "code",
      "source": [
        "print('test')"
      ],
      "metadata": {
        "colab": {
          "base_uri": "https://localhost:8080/"
        },
        "id": "AvbpvSWdO-u9",
        "outputId": "22f36d53-d572-4e0e-b832-5f0d96ba861b"
      },
      "id": "AvbpvSWdO-u9",
      "execution_count": 2,
      "outputs": [
        {
          "output_type": "stream",
          "name": "stdout",
          "text": [
            "test\n"
          ]
        }
      ]
    },
    {
      "cell_type": "markdown",
      "id": "1f82417d-c3c6-418b-94ff-f40dce925932",
      "metadata": {
        "id": "1f82417d-c3c6-418b-94ff-f40dce925932"
      },
      "source": [
        "ผลลัพธ์ที่ต้องการแสดง [103.73, 77.0, 89.6]"
      ]
    },
    {
      "cell_type": "markdown",
      "id": "a8dc1e83-2ad4-446b-bcb1-56cc0b517415",
      "metadata": {
        "id": "a8dc1e83-2ad4-446b-bcb1-56cc0b517415"
      },
      "source": [
        "### แปลงเป็นองศาฟาเคลวินให้ได้ผลลัพธ์เป็น list เก็บใน K"
      ]
    },
    {
      "cell_type": "code",
      "source": [
        "def celcius_to_kelvin(c):\n",
        "  k = c + 273.15\n",
        "  return k\n",
        "\n",
        "def celcius_to_f(c):\n",
        "  f = (9/5)*c + 32\n",
        "  return f"
      ],
      "metadata": {
        "id": "665yzXfqPfKw"
      },
      "id": "665yzXfqPfKw",
      "execution_count": 34,
      "outputs": []
    },
    {
      "cell_type": "code",
      "execution_count": 35,
      "id": "6fcd3925-4041-4b30-bb4d-ea1680a6f8ae",
      "metadata": {
        "id": "6fcd3925-4041-4b30-bb4d-ea1680a6f8ae",
        "colab": {
          "base_uri": "https://localhost:8080/"
        },
        "outputId": "d3ee215c-5e85-4830-9d1f-107be9e9ee5f"
      },
      "outputs": [
        {
          "output_type": "stream",
          "name": "stdout",
          "text": [
            "[313.0, 298.15, 305.15]\n"
          ]
        }
      ],
      "source": [
        "K = []\n",
        "\n",
        "for c in C:\n",
        "  result = c + 273.15\n",
        "  K.append(result)\n",
        "\n",
        "# Your code\n",
        "\n",
        "print(K)"
      ]
    },
    {
      "cell_type": "code",
      "source": [
        "K = []\n",
        "\n",
        "for c in C:\n",
        "  result = celcius_to_kelvin(c)\n",
        "  K.append(result)\n",
        "\n",
        "# Your code\n",
        "\n",
        "print(K)"
      ],
      "metadata": {
        "colab": {
          "base_uri": "https://localhost:8080/"
        },
        "id": "VEvcLH2qPrt-",
        "outputId": "ffb24ce6-b48e-4256-e9f8-0bc9185dc5c6"
      },
      "id": "VEvcLH2qPrt-",
      "execution_count": 36,
      "outputs": [
        {
          "output_type": "stream",
          "name": "stdout",
          "text": [
            "[313.0, 298.15, 305.15]\n"
          ]
        }
      ]
    },
    {
      "cell_type": "markdown",
      "id": "9bbda200-1a5a-45c7-a3c2-92226634bf43",
      "metadata": {
        "id": "9bbda200-1a5a-45c7-a3c2-92226634bf43"
      },
      "source": [
        "ผลลัพธ์ที่ต้องการแสดง [313.0, 298.15, 305.15]"
      ]
    },
    {
      "cell_type": "markdown",
      "id": "870f923b-c173-459d-bbe1-689fd2b79932",
      "metadata": {
        "id": "870f923b-c173-459d-bbe1-689fd2b79932"
      },
      "source": [
        "### แสดงการสรุปผล"
      ]
    },
    {
      "cell_type": "code",
      "execution_count": 32,
      "id": "fbc314b0-7bc4-4f53-8cfe-3095dc555937",
      "metadata": {
        "id": "fbc314b0-7bc4-4f53-8cfe-3095dc555937",
        "outputId": "70cffb8c-bd28-4575-87c4-8ae5a4014f62",
        "colab": {
          "base_uri": "https://localhost:8080/"
        }
      },
      "outputs": [
        {
          "output_type": "stream",
          "name": "stdout",
          "text": [
            "39.85°C = 103.73°F = 313.0°K\n",
            "25°C = 77.0°F = 298.15°K\n",
            "32°C = 89.6°F = 305.15°K\n"
          ]
        }
      ],
      "source": [
        "# Your code\n",
        "print(f\"39.85°C = {celcius_to_f(39.85)}°F = {celcius_to_kelvin(39.85)}°K\")\n",
        "print(f\"25°C = {celcius_to_f(25)}°F = {celcius_to_kelvin(25)}°K\")\n",
        "print(f\"32°C = {celcius_to_f(32)}°F = {celcius_to_kelvin(32)}°K\")"
      ]
    },
    {
      "cell_type": "code",
      "source": [
        "a = 20\n",
        "b = \"apple\"\n",
        "\n",
        "print(f\"I have total of {b} {a}\")"
      ],
      "metadata": {
        "colab": {
          "base_uri": "https://localhost:8080/"
        },
        "id": "suS5YhDwaBnR",
        "outputId": "a02fa806-aaf0-4ad3-d2de-723252e45295"
      },
      "id": "suS5YhDwaBnR",
      "execution_count": 72,
      "outputs": [
        {
          "output_type": "stream",
          "name": "stdout",
          "text": [
            "I have total of apple 20\n"
          ]
        }
      ]
    },
    {
      "cell_type": "code",
      "source": [
        "pf = lambda c : c + 273.15\n",
        "\n",
        "print(\"K = \",pf(30))"
      ],
      "metadata": {
        "colab": {
          "base_uri": "https://localhost:8080/"
        },
        "id": "7-avY0lzaeow",
        "outputId": "253c0bbb-3573-4064-f484-6d18b091b4be"
      },
      "id": "7-avY0lzaeow",
      "execution_count": 73,
      "outputs": [
        {
          "output_type": "stream",
          "name": "stdout",
          "text": [
            "K =  303.15\n"
          ]
        }
      ]
    },
    {
      "cell_type": "markdown",
      "id": "ee21bdf5-7345-42a0-9cce-18c07b7f0d44",
      "metadata": {
        "id": "ee21bdf5-7345-42a0-9cce-18c07b7f0d44"
      },
      "source": [
        "ผลที่ต้องการแสดง  \n",
        "39.85 °C = 103.73 °F = 313.0 °K  \n",
        "25 °C = 77.0 °F = 298.15 °K  \n",
        "32 °C = 89.6 °F = 305.15 °K  "
      ]
    },
    {
      "cell_type": "markdown",
      "id": "b415fcb5-8d76-45fd-ae2c-523f03b10b79",
      "metadata": {
        "id": "b415fcb5-8d76-45fd-ae2c-523f03b10b79"
      },
      "source": [
        "---"
      ]
    },
    {
      "cell_type": "markdown",
      "id": "0126d1f0-c4b0-4ba8-8c47-fa676345a02b",
      "metadata": {
        "id": "0126d1f0-c4b0-4ba8-8c47-fa676345a02b"
      },
      "source": [
        "### 1.2"
      ]
    },
    {
      "cell_type": "markdown",
      "id": "a1e08816-6647-4043-97c9-fd84145b2b78",
      "metadata": {
        "id": "a1e08816-6647-4043-97c9-fd84145b2b78"
      },
      "source": [
        "ให้นิสิตแสดงวิธีการแปลง list income (ซึ่งเปรียบเสมือนเป็นข้อมูลเงินเดือนของผู้ตอบแบบสอบถาม 20 ท่าน)  \n",
        "ให้เป็น numpy array เก็บในตัวแปรที่ชื่อ income_number โดย array ที่แปลงได้ควรมีชนิด dtype เป็น float   \n",
        "การแปลง string ให้เป็น float กำหนดให้ K = 1000 และ M = 1000000   \n",
        "string \"-\" ให้แปลงเป็น np.nan (dtype ต้องเป็น float จึงจะใช้ np.nan ได้)"
      ]
    },
    {
      "cell_type": "markdown",
      "id": "41c0bea4-f8a7-421f-88eb-c4b079d214ef",
      "metadata": {
        "id": "41c0bea4-f8a7-421f-88eb-c4b079d214ef"
      },
      "source": [
        "\\*โจทย์ข้อนี้สามารถทำได้หลายวิธี  \n",
        "หากใช้ numpy นิสิตอาจต้องหาข้อมูลเพิ่ม เช่น การใช้ np.char.replace หรือฟังก์ชัน eval"
      ]
    },
    {
      "cell_type": "code",
      "execution_count": 15,
      "id": "bde3d269-4d17-41d4-b1fc-91f19dcec73d",
      "metadata": {
        "id": "bde3d269-4d17-41d4-b1fc-91f19dcec73d",
        "tags": []
      },
      "outputs": [],
      "source": [
        "import numpy as np"
      ]
    },
    {
      "cell_type": "code",
      "execution_count": 16,
      "id": "93c0955a-7a83-4f6f-b038-cc15e20f30ac",
      "metadata": {
        "id": "93c0955a-7a83-4f6f-b038-cc15e20f30ac"
      },
      "outputs": [],
      "source": [
        "income = [\"20K\", \"3M\", \"12K\", \"0.04M\", \"0.023K\", \"-\", \"16K\", \"740K\", \"15K\", \"40K\",\n",
        "         \"-\", \"17K\", \"-\", \"120K\", \"56K\", \"-\", \"42K\", \"2M\", \"0.14M\", \"60K\"]"
      ]
    },
    {
      "cell_type": "code",
      "execution_count": 25,
      "id": "5cb708fa-2c73-4352-a7cf-d73c31454cd4",
      "metadata": {
        "id": "5cb708fa-2c73-4352-a7cf-d73c31454cd4",
        "colab": {
          "base_uri": "https://localhost:8080/"
        },
        "outputId": "69d8a779-a682-4b9d-f2af-da794b2e6c32"
      },
      "outputs": [
        {
          "output_type": "execute_result",
          "data": {
            "text/plain": [
              "array([2.0e+04, 3.0e+06, 1.2e+04, 4.0e+04, 2.3e+01,     nan, 1.6e+04,\n",
              "       7.4e+05, 1.5e+04, 4.0e+04,     nan, 1.7e+04,     nan, 1.2e+05,\n",
              "       5.6e+04,     nan, 4.2e+04, 2.0e+06, 1.4e+05, 6.0e+04])"
            ]
          },
          "metadata": {},
          "execution_count": 25
        }
      ],
      "source": [
        "income_number = np.array([20*pow(10,3),3*pow(10,6),12*pow(10,3),0.04*pow(10,6),0.023*pow(10,3),np.nan,16*pow(10,3),740*pow(10,3),15*pow(10,3),40*pow(10,3),\n",
        "                         np.nan,17*pow(10,3),np.nan,120*pow(10,3),56*pow(10,3),np.nan,42*pow(10,3),2*pow(10,6),0.14*pow(10,6),60*pow(10,3)\n",
        "                          ],dtype=\"float64\")\n",
        "\n",
        "# นิสิตแสดงวิธีการด้วยการเขียนโค้ด\n",
        "income_number"
      ]
    },
    {
      "cell_type": "code",
      "source": [
        "import numpy as np\n",
        "\n",
        "\n",
        "def convert_to_float(value):\n",
        "    if 'K' in value:\n",
        "        return float(value.replace('K', ''))*pow(10,3)\n",
        "    elif 'M' in value:\n",
        "        return float(value.replace('M', ''))*pow(10,6)\n",
        "    else:\n",
        "        return np.nan\n",
        "\n",
        "# Example input list\n",
        "input_list = [\"20K\", \"3M\", \"12K\", \"0.04M\", \"0.023K\", \"-\", \"16K\", \"740K\", \"15K\", \"40K\",\n",
        "              \"-\", \"17K\", \"-\", \"120K\", \"56K\", \"-\", \"42K\", \"2M\", \"0.14M\", \"60K\"]\n",
        "\n",
        "# Convert the list of strings to a list of floats, with np.nan for dashes\n",
        "float_list = [convert_to_float(value) for value in input_list]\n",
        "\n",
        "#print(float_list)\n",
        "\n",
        "\n",
        "income_number = np.array(float_list,dtype='float64')\n",
        "\n",
        "print(income_number)\n",
        "print(type(income_number))"
      ],
      "metadata": {
        "colab": {
          "base_uri": "https://localhost:8080/"
        },
        "id": "PNs7RbbrUaPW",
        "outputId": "985b2826-61f9-4b24-b42d-d92a689ec1e7"
      },
      "id": "PNs7RbbrUaPW",
      "execution_count": 64,
      "outputs": [
        {
          "output_type": "stream",
          "name": "stdout",
          "text": [
            "[2.0e+04 3.0e+06 1.2e+04 4.0e+04 2.3e+01     nan 1.6e+04 7.4e+05 1.5e+04\n",
            " 4.0e+04     nan 1.7e+04     nan 1.2e+05 5.6e+04     nan 4.2e+04 2.0e+06\n",
            " 1.4e+05 6.0e+04]\n",
            "<class 'numpy.ndarray'>\n"
          ]
        }
      ]
    },
    {
      "cell_type": "code",
      "source": [
        "# NameError = ตัวแปรยังไม่อากาศ   เราพิมพ์ชื่อตัวแปรผิด\n",
        "# TypeError =    int(\"30M\")"
      ],
      "metadata": {
        "id": "PU90sIIMYqVV"
      },
      "id": "PU90sIIMYqVV",
      "execution_count": null,
      "outputs": []
    },
    {
      "cell_type": "code",
      "source": [
        "print(float('20K'.replace('K',''))*pow(10,3))"
      ],
      "metadata": {
        "colab": {
          "base_uri": "https://localhost:8080/"
        },
        "id": "97YzsYHGXvhu",
        "outputId": "79dc4810-b581-43b5-a8cb-b7e661b4bb8a"
      },
      "id": "97YzsYHGXvhu",
      "execution_count": 56,
      "outputs": [
        {
          "output_type": "stream",
          "name": "stdout",
          "text": [
            "20000.0\n"
          ]
        }
      ]
    },
    {
      "cell_type": "markdown",
      "id": "eabdd092-ba5e-46c9-9394-d7ced89b031e",
      "metadata": {
        "id": "eabdd092-ba5e-46c9-9394-d7ced89b031e"
      },
      "source": [
        "##วิธีการของนิสิตควรได้ผลลัพธ์ดังที่ระบุเมื่อรัน cell ต่อไปนี้"
      ]
    },
    {
      "cell_type": "code",
      "execution_count": 65,
      "id": "940d9c4f-4b5c-4661-8faf-3a5cd1991d15",
      "metadata": {
        "id": "940d9c4f-4b5c-4661-8faf-3a5cd1991d15",
        "colab": {
          "base_uri": "https://localhost:8080/"
        },
        "outputId": "21f31d53-12d3-4bc3-8eef-1f9f0229c361"
      },
      "outputs": [
        {
          "output_type": "stream",
          "name": "stdout",
          "text": [
            "[2.0e+04 3.0e+06 1.2e+04 4.0e+04 2.3e+01     nan 1.6e+04 7.4e+05 1.5e+04\n",
            " 4.0e+04     nan 1.7e+04     nan 1.2e+05 5.6e+04     nan 4.2e+04 2.0e+06\n",
            " 1.4e+05 6.0e+04]\n"
          ]
        }
      ],
      "source": [
        "print(income_number)"
      ]
    },
    {
      "cell_type": "markdown",
      "id": "8cdca165-65aa-4b36-9461-eb9efab396fd",
      "metadata": {
        "id": "8cdca165-65aa-4b36-9461-eb9efab396fd"
      },
      "source": [
        "ผลลัพธ์ที่ควรแสดง: array([2.0e+04, 3.0e+06, 1.2e+04, 4.0e+04, 2.3e+01,     nan, 1.6e+04,\n",
        "       7.4e+05, 1.5e+04, 4.0e+04,     nan, 1.7e+04,     nan, 1.2e+05,\n",
        "       5.6e+04,     nan, 4.2e+04, 2.0e+06, 1.4e+05, 6.0e+04])"
      ]
    },
    {
      "cell_type": "code",
      "execution_count": 66,
      "id": "28a4c0df-1947-404f-a143-f1e85e29060f",
      "metadata": {
        "id": "28a4c0df-1947-404f-a143-f1e85e29060f",
        "colab": {
          "base_uri": "https://localhost:8080/"
        },
        "outputId": "2f76534f-1281-42a7-e208-2ba38a00209d"
      },
      "outputs": [
        {
          "output_type": "execute_result",
          "data": {
            "text/plain": [
              "numpy.ndarray"
            ]
          },
          "metadata": {},
          "execution_count": 66
        }
      ],
      "source": [
        "type(income_number)"
      ]
    },
    {
      "cell_type": "markdown",
      "id": "b6e656ea-fdcc-4c39-bf2b-3c6c555a8d74",
      "metadata": {
        "id": "b6e656ea-fdcc-4c39-bf2b-3c6c555a8d74"
      },
      "source": [
        "ผลลัพธ์ที่ควรแสดง: numpy.ndarray"
      ]
    },
    {
      "cell_type": "code",
      "execution_count": 67,
      "id": "613480c1-78b6-4240-b1b1-48dae3957208",
      "metadata": {
        "id": "613480c1-78b6-4240-b1b1-48dae3957208",
        "colab": {
          "base_uri": "https://localhost:8080/"
        },
        "outputId": "f937b91e-bd55-4595-9f95-65035b813dfd"
      },
      "outputs": [
        {
          "output_type": "execute_result",
          "data": {
            "text/plain": [
              "dtype('float64')"
            ]
          },
          "metadata": {},
          "execution_count": 67
        }
      ],
      "source": [
        "income_number.dtype"
      ]
    },
    {
      "cell_type": "markdown",
      "id": "8b21a94a-936a-46a9-94fa-41b01851e051",
      "metadata": {
        "id": "8b21a94a-936a-46a9-94fa-41b01851e051"
      },
      "source": [
        "ผลลัพธ์ที่ควรแสดง: dtype('float64')"
      ]
    },
    {
      "cell_type": "code",
      "execution_count": 68,
      "id": "b7978b4d-7ea0-4cd9-b0d9-25b5908e457d",
      "metadata": {
        "id": "b7978b4d-7ea0-4cd9-b0d9-25b5908e457d",
        "colab": {
          "base_uri": "https://localhost:8080/"
        },
        "outputId": "d182ee0c-ec88-468b-889b-58fa36417cd1"
      },
      "outputs": [
        {
          "output_type": "execute_result",
          "data": {
            "text/plain": [
              "394876.4375"
            ]
          },
          "metadata": {},
          "execution_count": 68
        }
      ],
      "source": [
        "np.nanmean(income_number)"
      ]
    },
    {
      "cell_type": "code",
      "source": [
        "np.mean(income_number)"
      ],
      "metadata": {
        "colab": {
          "base_uri": "https://localhost:8080/"
        },
        "id": "0q8MxJDcZac2",
        "outputId": "438e04eb-f669-4372-9681-be04a522af2b"
      },
      "id": "0q8MxJDcZac2",
      "execution_count": 70,
      "outputs": [
        {
          "output_type": "execute_result",
          "data": {
            "text/plain": [
              "nan"
            ]
          },
          "metadata": {},
          "execution_count": 70
        }
      ]
    },
    {
      "cell_type": "markdown",
      "id": "37d89d0e-3fee-4846-8f74-a2e133410f8e",
      "metadata": {
        "id": "37d89d0e-3fee-4846-8f74-a2e133410f8e"
      },
      "source": [
        "ผลลัพธ์ที่ควรแสดง: 394876.4375"
      ]
    },
    {
      "cell_type": "code",
      "execution_count": 69,
      "id": "1cb30310-a64c-46a7-8848-924412f639b4",
      "metadata": {
        "id": "1cb30310-a64c-46a7-8848-924412f639b4",
        "colab": {
          "base_uri": "https://localhost:8080/"
        },
        "outputId": "9be9e1cf-9249-4f1f-bdc3-7a6c4b6830a5"
      },
      "outputs": [
        {
          "output_type": "execute_result",
          "data": {
            "text/plain": [
              "41000.0"
            ]
          },
          "metadata": {},
          "execution_count": 69
        }
      ],
      "source": [
        "np.nanmedian(income_number)"
      ]
    },
    {
      "cell_type": "code",
      "source": [
        "np.median(income_number)"
      ],
      "metadata": {
        "colab": {
          "base_uri": "https://localhost:8080/"
        },
        "id": "Dn9CZJ16ZqG_",
        "outputId": "468baf80-e1fa-42ea-b436-8c1d901bebca"
      },
      "id": "Dn9CZJ16ZqG_",
      "execution_count": 71,
      "outputs": [
        {
          "output_type": "execute_result",
          "data": {
            "text/plain": [
              "nan"
            ]
          },
          "metadata": {},
          "execution_count": 71
        }
      ]
    },
    {
      "cell_type": "markdown",
      "id": "3a08657a-20b5-446a-8ab6-c794d1ed1049",
      "metadata": {
        "id": "3a08657a-20b5-446a-8ab6-c794d1ed1049"
      },
      "source": [
        "ผลลัพธ์ที่ควรแสดง: 41000.0"
      ]
    },
    {
      "cell_type": "markdown",
      "id": "3e50831c-d5bf-4d63-93b3-eb6ca2b064b5",
      "metadata": {
        "id": "3e50831c-d5bf-4d63-93b3-eb6ca2b064b5"
      },
      "source": [
        "---"
      ]
    }
  ],
  "metadata": {
    "colab": {
      "provenance": []
    },
    "kernelspec": {
      "display_name": "Python 3 (ipykernel)",
      "language": "python",
      "name": "python3"
    },
    "language_info": {
      "codemirror_mode": {
        "name": "ipython",
        "version": 3
      },
      "file_extension": ".py",
      "mimetype": "text/x-python",
      "name": "python",
      "nbconvert_exporter": "python",
      "pygments_lexer": "ipython3",
      "version": "3.11.5"
    }
  },
  "nbformat": 4,
  "nbformat_minor": 5
}